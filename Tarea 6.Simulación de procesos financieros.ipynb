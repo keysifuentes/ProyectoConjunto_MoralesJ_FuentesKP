{
 "cells": [
  {
   "cell_type": "markdown",
   "metadata": {},
   "source": [
    "<img style=\"float: left; margin: 30px 15px 15px 15px;\" src=\"https://pngimage.net/wp-content/uploads/2018/06/logo-iteso-png-5.png\" width=\"300\" height=\"500\" /> \n",
    "    \n",
    "    \n",
    "### <font color='navy'> Simulación de procesos financieros. \n",
    "\n",
    "**Nombres:** José de Jesús Morales Dominguez, Keysi Fuentes Piña.\n",
    "\n",
    "**Fecha:** 13 de marzo del 2024.\n",
    "\n",
    "**Expediente** : 742298, 740476\n",
    "**Profesor:** Oscar David Jaramillo Zuluaga.\n",
    "    \n",
    "**Link Github**: https://github.com/JMlrales/ProyectoConjunto_MoralesJ_FuentesKP\n",
    "\n",
    "# Tarea 6: Clase 14"
   ]
  },
  {
   "cell_type": "markdown",
   "metadata": {},
   "source": [
    "## Simulación de Montecarlo\n",
    "> Según lo visto en generación de números aleatorios basados en distribuciones de probabilidad"
   ]
  },
  {
   "cell_type": "markdown",
   "metadata": {},
   "source": [
    "### Ejercicio 1:\n",
    "**Esta tarea incluye el ejercicio dejado en la clase anterior**\n",
    "![imagen.png](attachment:imagen.png)\n",
    "Además use el método de estratificación donde se divide en B estratos, visto la clase pasada y compare el resultado con los métodos anteriores cuando se toman $2,4,6,10$ estratos respectivamente, concluya.\n",
    "    \n",
    "1. Encuentre la media analítica de la distribución usando la expresión matemática.\n",
    "2. Use el método de montecarlo crudo para estimar la media de la distribución.\n",
    "3. Use el método estratificado no igualmente espaciado para estimar la media de la distribución segun liteal b).\n",
    "4. Use el método números complementarios para estimar la media de la distribución en base al literal c).\n",
    "5. Use el método estratificado igualmente espaciado para estimar la media de la distribución segun el último párrafo de la imagen."
   ]
  },
  {
   "cell_type": "markdown",
   "metadata": {},
   "source": [
    "Código de solución estudiante 1 (José)"
   ]
  },
  {
   "cell_type": "code",
   "execution_count": null,
   "metadata": {},
   "outputs": [],
   "source": [
    "# Código de solución estudiante 1\n",
    "\n"
   ]
  },
  {
   "cell_type": "markdown",
   "metadata": {},
   "source": [
    "Código de solución estudiante 2 (Keysi)"
   ]
  },
  {
   "cell_type": "code",
   "execution_count": null,
   "metadata": {},
   "outputs": [],
   "source": [
    "# Código de solución estudiante 2\n"
   ]
  },
  {
   "cell_type": "markdown",
   "metadata": {},
   "source": [
    "### Ejercicio 2:Aproxime el valor de la siguiente integral usando el método monte carlo crudo y método de reducción de varianza de muestreo estratíficado\n",
    "\n",
    "$$I=\\int_{0}^{1}e^{x^2}\\text{d}x\\approx 1.46265$$\n",
    "\n",
    "Pasos\n",
    "1. Cree una función que realice el método de muestreo estratíficado (igualmente espaciado), recibiendo como  parámetros de entrada la cantidad de estratos, los valores a y b en los cuales se deben de generar los números aletorios y retornando las variables estratíficadas correspondientes.\n",
    "2. Cree una función que realice el método de muestreo estratíficado (con intervalos no igualmente espaciados), recibiendo como parámetro la cantidad de términos que se tienen que generar en cada estrato y regrese las variables aleatorias estratificadas correspondientes.\n",
    "2. Reporte los resultados de la aproximación de la integral usando montecarlo crudo y muestreo estratíficado, en un Dataframe con la información mostrada en la siguiente tabla:\n",
    "\n",
    "| Cantidad de términos | Montecarlo crudo | Error 1% | Montecarlo estratíficado 1 | Error 2 % | Montecarlo estratíficado 2 | Error 3 % |\n",
    "|:--------------------:|:----------------:|:--------:|:--------------------------:|:---------:|:--------------------------:|:---------:|\n",
    "|          10          |                  |          |                            |           |                            |           |\n",
    "|          100         |                  |          |                            |           |                            |           |\n",
    "|         1000         |                  |          |                            |           |                            |           |\n",
    "|         10000        |                  |          |                            |           |                            |           |\n",
    "|        100000        |                  |          |                            |           |                            |           |\n",
    "|        1000000       |                  |          |                            |           |                            |           |"
   ]
  },
  {
   "cell_type": "markdown",
   "metadata": {},
   "source": [
    "Código de solución estudiante 1 (José)"
   ]
  },
  {
   "cell_type": "code",
   "execution_count": 1,
   "metadata": {},
   "outputs": [],
   "source": [
    "# Código de solución estudiante 1\n"
   ]
  },
  {
   "cell_type": "markdown",
   "metadata": {},
   "source": [
    "Código de solución estudiante 2 (Keysi)"
   ]
  },
  {
   "cell_type": "code",
   "execution_count": 1,
   "metadata": {},
   "outputs": [
    {
     "name": "stdout",
     "output_type": "stream",
     "text": [
      "   Cantidad de términos  Montecarlo crudo  Error 1 %  \\\n",
      "0                    10          1.230026  15.904315   \n",
      "1                   100          1.385412   5.280700   \n",
      "2                  1000          1.444781   1.221675   \n",
      "3                 10000          1.461411   0.084736   \n",
      "4                100000          1.463913   0.086364   \n",
      "5               1000000          1.463423   0.052867   \n",
      "\n",
      "   Montecarlo estratíficado 1  Error 2 %  Montecarlo estratíficado 2  \\\n",
      "0                    1.464331   0.114962                    1.519829   \n",
      "1                    1.463445   0.054320                    1.465408   \n",
      "2                    1.462633   0.001149                    1.462942   \n",
      "3                    1.462653   0.000180                    1.462681   \n",
      "4                    1.462652   0.000119                    1.462655   \n",
      "5                    1.462652   0.000119                    1.462652   \n",
      "\n",
      "   Error 3 %  \n",
      "0   3.909240  \n",
      "1   0.188544  \n",
      "2   0.019965  \n",
      "3   0.002089  \n",
      "4   0.000314  \n",
      "5   0.000139  \n"
     ]
    }
   ],
   "source": [
    "import numpy as np\n",
    "import pandas as pd\n",
    "\n",
    "def estratificado_igualmente_espaciado(n, a, b):\n",
    "    U = np.random.uniform(0, 1, n)\n",
    "    i = np.arange(0, n)\n",
    "    return (U + i) / n * (b - a) + a\n",
    "\n",
    "def estratificado_intervalos_no_espaciados(n, a, b):\n",
    "    U = np.random.uniform(0, 1, n)\n",
    "    i = np.arange(0, n)\n",
    "    return (np.sqrt(U) + i) / n * (b - a) + a\n",
    "\n",
    "def montecarlo(n):\n",
    "    x = np.random.uniform(0, 1, n)\n",
    "    return np.mean(np.exp(x**2))\n",
    "\n",
    "def calcular_error(aproximado, real):\n",
    "    return np.abs(aproximado - real) / real * 100\n",
    "\n",
    "real_value = 1.46265\n",
    "terminos = [10, 100, 1000, 10000, 100000, 1000000]\n",
    "\n",
    "resultados = []\n",
    "\n",
    "for n in terminos:\n",
    "    montecarlo_crudo = montecarlo(n)\n",
    "    error_1 = calcular_error(montecarlo_crudo, real_value)\n",
    "    \n",
    "    estratificado_igualmente_espaciado_values = estratificado_igualmente_espaciado(n, 0, 1)\n",
    "    montecarlo_estratificado_igualmente_espaciado = np.mean(np.exp(estratificado_igualmente_espaciado_values**2))\n",
    "    error_2 = calcular_error(montecarlo_estratificado_igualmente_espaciado, real_value)\n",
    "    \n",
    "    estratificado_intervalos_no_espaciados_values = estratificado_intervalos_no_espaciados(n, 0, 1)\n",
    "    montecarlo_estratificado_intervalos_no_espaciados = np.mean(np.exp(estratificado_intervalos_no_espaciados_values**2))\n",
    "    error_3 = calcular_error(montecarlo_estratificado_intervalos_no_espaciados, real_value)\n",
    "    \n",
    "    resultados.append([n, montecarlo_crudo, error_1, montecarlo_estratificado_igualmente_espaciado, error_2, montecarlo_estratificado_intervalos_no_espaciados, error_3])\n",
    "\n",
    "df = pd.DataFrame(resultados, columns=[\"Cantidad de términos\", \"Montecarlo crudo\", \"Error 1 %\", \"Montecarlo estratíficado 1\", \"Error 2 %\", \"Montecarlo estratíficado 2\", \"Error 3 %\"])\n",
    "\n",
    "print(df)\n",
    "\n"
   ]
  },
  {
   "cell_type": "code",
   "execution_count": null,
   "metadata": {},
   "outputs": [],
   "source": []
  }
 ],
 "metadata": {
  "kernelspec": {
   "display_name": "Python 3 (ipykernel)",
   "language": "python",
   "name": "python3"
  },
  "language_info": {
   "codemirror_mode": {
    "name": "ipython",
    "version": 3
   },
   "file_extension": ".py",
   "mimetype": "text/x-python",
   "name": "python",
   "nbconvert_exporter": "python",
   "pygments_lexer": "ipython3",
   "version": "3.9.12"
  }
 },
 "nbformat": 4,
 "nbformat_minor": 2
}
